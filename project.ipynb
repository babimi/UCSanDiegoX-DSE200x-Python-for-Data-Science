{
 "cells": [
  {
   "cell_type": "markdown",
   "metadata": {},
   "source": [
    "<p style=\"font-family: Arial; font-size:3.75em;color:purple; font-style:bold\"><br>\n",
    "Final Project</p><br>\n",
    "\n",
    "Coronavirus COVID19\n",
    "\n",
    "Import Libraries\n",
    "\n"
   ]
  },
  {
   "cell_type": "code",
   "execution_count": 2,
   "metadata": {},
   "outputs": [],
   "source": [
    "import numpy as np # linear algebra\n",
    "import pandas as pd # data processing, CSV file I/O (e.g. pd.read_csv)\n",
    "\n",
    "\n",
    "#import warnings\n",
    "#warnings.filterwarnings(\"ignore\")"
   ]
  },
  {
   "cell_type": "code",
   "execution_count": 3,
   "metadata": {
    "scrolled": false
   },
   "outputs": [
    {
     "name": "stderr",
     "output_type": "stream",
     "text": [
      "<ipython-input-3-f22a4d3bcebd>:5: FutureWarning: Indexing with multiple keys (implicitly converted to a tuple of keys) will be deprecated, use a list instead.\n",
      "  newdf= df.groupby(['Date','Country/Region'])['Confirmed','Deaths','Recovered'].sum().reset_index()\n"
     ]
    },
    {
     "data": {
      "text/html": [
       "<div>\n",
       "<style scoped>\n",
       "    .dataframe tbody tr th:only-of-type {\n",
       "        vertical-align: middle;\n",
       "    }\n",
       "\n",
       "    .dataframe tbody tr th {\n",
       "        vertical-align: top;\n",
       "    }\n",
       "\n",
       "    .dataframe thead th {\n",
       "        text-align: right;\n",
       "    }\n",
       "</style>\n",
       "<table border=\"1\" class=\"dataframe\">\n",
       "  <thead>\n",
       "    <tr style=\"text-align: right;\">\n",
       "      <th></th>\n",
       "      <th>Country/Region</th>\n",
       "      <th>Province/State</th>\n",
       "      <th>Latitude</th>\n",
       "      <th>Longitude</th>\n",
       "      <th>Confirmed</th>\n",
       "      <th>Recovered</th>\n",
       "      <th>Deaths</th>\n",
       "    </tr>\n",
       "    <tr>\n",
       "      <th>Date</th>\n",
       "      <th></th>\n",
       "      <th></th>\n",
       "      <th></th>\n",
       "      <th></th>\n",
       "      <th></th>\n",
       "      <th></th>\n",
       "      <th></th>\n",
       "    </tr>\n",
       "  </thead>\n",
       "  <tbody>\n",
       "    <tr>\n",
       "      <th>2020-01-22</th>\n",
       "      <td>China</td>\n",
       "      <td>Anhui</td>\n",
       "      <td>31.8257</td>\n",
       "      <td>117.2264</td>\n",
       "      <td>1.0</td>\n",
       "      <td>NaN</td>\n",
       "      <td>NaN</td>\n",
       "    </tr>\n",
       "    <tr>\n",
       "      <th>2020-01-22</th>\n",
       "      <td>China</td>\n",
       "      <td>Beijing</td>\n",
       "      <td>40.1824</td>\n",
       "      <td>116.4142</td>\n",
       "      <td>14.0</td>\n",
       "      <td>NaN</td>\n",
       "      <td>NaN</td>\n",
       "    </tr>\n",
       "    <tr>\n",
       "      <th>2020-01-22</th>\n",
       "      <td>China</td>\n",
       "      <td>Chongqing</td>\n",
       "      <td>30.0572</td>\n",
       "      <td>107.8740</td>\n",
       "      <td>6.0</td>\n",
       "      <td>NaN</td>\n",
       "      <td>NaN</td>\n",
       "    </tr>\n",
       "    <tr>\n",
       "      <th>2020-01-22</th>\n",
       "      <td>China</td>\n",
       "      <td>Fujian</td>\n",
       "      <td>26.0789</td>\n",
       "      <td>117.9874</td>\n",
       "      <td>1.0</td>\n",
       "      <td>NaN</td>\n",
       "      <td>NaN</td>\n",
       "    </tr>\n",
       "    <tr>\n",
       "      <th>2020-01-22</th>\n",
       "      <td>China</td>\n",
       "      <td>Gansu</td>\n",
       "      <td>36.0611</td>\n",
       "      <td>103.8343</td>\n",
       "      <td>NaN</td>\n",
       "      <td>NaN</td>\n",
       "      <td>NaN</td>\n",
       "    </tr>\n",
       "    <tr>\n",
       "      <th>...</th>\n",
       "      <td>...</td>\n",
       "      <td>...</td>\n",
       "      <td>...</td>\n",
       "      <td>...</td>\n",
       "      <td>...</td>\n",
       "      <td>...</td>\n",
       "      <td>...</td>\n",
       "    </tr>\n",
       "    <tr>\n",
       "      <th>2020-03-21</th>\n",
       "      <td>Jersey</td>\n",
       "      <td>NaN</td>\n",
       "      <td>49.1900</td>\n",
       "      <td>-2.1100</td>\n",
       "      <td>0.0</td>\n",
       "      <td>0.0</td>\n",
       "      <td>0.0</td>\n",
       "    </tr>\n",
       "    <tr>\n",
       "      <th>2020-03-21</th>\n",
       "      <td>Puerto Rico</td>\n",
       "      <td>NaN</td>\n",
       "      <td>18.2000</td>\n",
       "      <td>-66.5000</td>\n",
       "      <td>0.0</td>\n",
       "      <td>0.0</td>\n",
       "      <td>0.0</td>\n",
       "    </tr>\n",
       "    <tr>\n",
       "      <th>2020-03-21</th>\n",
       "      <td>Congo (Brazzaville)</td>\n",
       "      <td>NaN</td>\n",
       "      <td>-1.4400</td>\n",
       "      <td>15.5560</td>\n",
       "      <td>0.0</td>\n",
       "      <td>0.0</td>\n",
       "      <td>0.0</td>\n",
       "    </tr>\n",
       "    <tr>\n",
       "      <th>2020-03-21</th>\n",
       "      <td>The Bahamas</td>\n",
       "      <td>NaN</td>\n",
       "      <td>24.2500</td>\n",
       "      <td>-76.0000</td>\n",
       "      <td>0.0</td>\n",
       "      <td>0.0</td>\n",
       "      <td>0.0</td>\n",
       "    </tr>\n",
       "    <tr>\n",
       "      <th>2020-03-21</th>\n",
       "      <td>Gambia</td>\n",
       "      <td>NaN</td>\n",
       "      <td>13.4667</td>\n",
       "      <td>-16.6000</td>\n",
       "      <td>0.0</td>\n",
       "      <td>0.0</td>\n",
       "      <td>0.0</td>\n",
       "    </tr>\n",
       "  </tbody>\n",
       "</table>\n",
       "<p>7617 rows × 7 columns</p>\n",
       "</div>"
      ],
      "text/plain": [
       "                 Country/Region Province/State  Latitude  Longitude  \\\n",
       "Date                                                                  \n",
       "2020-01-22                China          Anhui   31.8257   117.2264   \n",
       "2020-01-22                China        Beijing   40.1824   116.4142   \n",
       "2020-01-22                China      Chongqing   30.0572   107.8740   \n",
       "2020-01-22                China         Fujian   26.0789   117.9874   \n",
       "2020-01-22                China          Gansu   36.0611   103.8343   \n",
       "...                         ...            ...       ...        ...   \n",
       "2020-03-21               Jersey            NaN   49.1900    -2.1100   \n",
       "2020-03-21          Puerto Rico            NaN   18.2000   -66.5000   \n",
       "2020-03-21  Congo (Brazzaville)            NaN   -1.4400    15.5560   \n",
       "2020-03-21          The Bahamas            NaN   24.2500   -76.0000   \n",
       "2020-03-21               Gambia            NaN   13.4667   -16.6000   \n",
       "\n",
       "            Confirmed  Recovered  Deaths  \n",
       "Date                                      \n",
       "2020-01-22        1.0        NaN     NaN  \n",
       "2020-01-22       14.0        NaN     NaN  \n",
       "2020-01-22        6.0        NaN     NaN  \n",
       "2020-01-22        1.0        NaN     NaN  \n",
       "2020-01-22        NaN        NaN     NaN  \n",
       "...               ...        ...     ...  \n",
       "2020-03-21        0.0        0.0     0.0  \n",
       "2020-03-21        0.0        0.0     0.0  \n",
       "2020-03-21        0.0        0.0     0.0  \n",
       "2020-03-21        0.0        0.0     0.0  \n",
       "2020-03-21        0.0        0.0     0.0  \n",
       "\n",
       "[7617 rows x 7 columns]"
      ]
     },
     "execution_count": 3,
     "metadata": {},
     "output_type": "execute_result"
    }
   ],
   "source": [
    "#Dataset downloaded from Kaggle.com\n",
    "df = pd.read_csv('~/Finial_project/covid-19-all.csv', index_col='Date', parse_dates=True)\n",
    "\n",
    "#Grouped each country with diffrerent either states or provinces\n",
    "newdf= df.groupby(['Date','Country/Region'])['Confirmed','Deaths','Recovered'].sum().reset_index()\n",
    "df"
   ]
  },
  {
   "cell_type": "code",
   "execution_count": 4,
   "metadata": {},
   "outputs": [],
   "source": [
    "#Define our intented countries:Italy, Iran and UK\n",
    "\n",
    "df_italy = newdf[:][newdf['Country/Region']=='Italy']\n",
    "df_iran = newdf[:][newdf['Country/Region']=='Iran']\n",
    "df_uk = newdf[:][newdf['Country/Region']=='United Kingdom']\n",
    "\n"
   ]
  },
  {
   "cell_type": "code",
   "execution_count": 5,
   "metadata": {},
   "outputs": [
    {
     "data": {
      "text/html": [
       "<div>\n",
       "<style scoped>\n",
       "    .dataframe tbody tr th:only-of-type {\n",
       "        vertical-align: middle;\n",
       "    }\n",
       "\n",
       "    .dataframe tbody tr th {\n",
       "        vertical-align: top;\n",
       "    }\n",
       "\n",
       "    .dataframe thead th {\n",
       "        text-align: right;\n",
       "    }\n",
       "</style>\n",
       "<table border=\"1\" class=\"dataframe\">\n",
       "  <thead>\n",
       "    <tr style=\"text-align: right;\">\n",
       "      <th></th>\n",
       "      <th>Date</th>\n",
       "      <th>Country/Region</th>\n",
       "      <th>Confirmed</th>\n",
       "      <th>Deaths</th>\n",
       "      <th>Recovered</th>\n",
       "      <th>Current Case</th>\n",
       "      <th>growth</th>\n",
       "      <th>death rate</th>\n",
       "    </tr>\n",
       "  </thead>\n",
       "  <tbody>\n",
       "    <tr>\n",
       "      <th>697</th>\n",
       "      <td>2020-02-19</td>\n",
       "      <td>Iran</td>\n",
       "      <td>2.0</td>\n",
       "      <td>2.0</td>\n",
       "      <td>0.0</td>\n",
       "      <td>0.0</td>\n",
       "      <td>NaN</td>\n",
       "      <td>1.000000</td>\n",
       "    </tr>\n",
       "    <tr>\n",
       "      <th>728</th>\n",
       "      <td>2020-02-20</td>\n",
       "      <td>Iran</td>\n",
       "      <td>5.0</td>\n",
       "      <td>2.0</td>\n",
       "      <td>0.0</td>\n",
       "      <td>3.0</td>\n",
       "      <td>inf</td>\n",
       "      <td>0.400000</td>\n",
       "    </tr>\n",
       "    <tr>\n",
       "      <th>759</th>\n",
       "      <td>2020-02-21</td>\n",
       "      <td>Iran</td>\n",
       "      <td>18.0</td>\n",
       "      <td>4.0</td>\n",
       "      <td>0.0</td>\n",
       "      <td>14.0</td>\n",
       "      <td>4.666667</td>\n",
       "      <td>0.222222</td>\n",
       "    </tr>\n",
       "    <tr>\n",
       "      <th>792</th>\n",
       "      <td>2020-02-22</td>\n",
       "      <td>Iran</td>\n",
       "      <td>28.0</td>\n",
       "      <td>5.0</td>\n",
       "      <td>0.0</td>\n",
       "      <td>23.0</td>\n",
       "      <td>1.642857</td>\n",
       "      <td>0.178571</td>\n",
       "    </tr>\n",
       "    <tr>\n",
       "      <th>825</th>\n",
       "      <td>2020-02-23</td>\n",
       "      <td>Iran</td>\n",
       "      <td>43.0</td>\n",
       "      <td>8.0</td>\n",
       "      <td>0.0</td>\n",
       "      <td>35.0</td>\n",
       "      <td>1.521739</td>\n",
       "      <td>0.186047</td>\n",
       "    </tr>\n",
       "    <tr>\n",
       "      <th>861</th>\n",
       "      <td>2020-02-24</td>\n",
       "      <td>Iran</td>\n",
       "      <td>61.0</td>\n",
       "      <td>12.0</td>\n",
       "      <td>0.0</td>\n",
       "      <td>49.0</td>\n",
       "      <td>1.400000</td>\n",
       "      <td>0.196721</td>\n",
       "    </tr>\n",
       "    <tr>\n",
       "      <th>902</th>\n",
       "      <td>2020-02-25</td>\n",
       "      <td>Iran</td>\n",
       "      <td>95.0</td>\n",
       "      <td>16.0</td>\n",
       "      <td>0.0</td>\n",
       "      <td>79.0</td>\n",
       "      <td>1.612245</td>\n",
       "      <td>0.168421</td>\n",
       "    </tr>\n",
       "    <tr>\n",
       "      <th>947</th>\n",
       "      <td>2020-02-26</td>\n",
       "      <td>Iran</td>\n",
       "      <td>139.0</td>\n",
       "      <td>19.0</td>\n",
       "      <td>49.0</td>\n",
       "      <td>71.0</td>\n",
       "      <td>0.898734</td>\n",
       "      <td>0.136691</td>\n",
       "    </tr>\n",
       "    <tr>\n",
       "      <th>998</th>\n",
       "      <td>2020-02-27</td>\n",
       "      <td>Iran</td>\n",
       "      <td>245.0</td>\n",
       "      <td>26.0</td>\n",
       "      <td>49.0</td>\n",
       "      <td>170.0</td>\n",
       "      <td>2.394366</td>\n",
       "      <td>0.106122</td>\n",
       "    </tr>\n",
       "    <tr>\n",
       "      <th>1054</th>\n",
       "      <td>2020-02-28</td>\n",
       "      <td>Iran</td>\n",
       "      <td>388.0</td>\n",
       "      <td>34.0</td>\n",
       "      <td>73.0</td>\n",
       "      <td>281.0</td>\n",
       "      <td>1.652941</td>\n",
       "      <td>0.087629</td>\n",
       "    </tr>\n",
       "    <tr>\n",
       "      <th>1114</th>\n",
       "      <td>2020-02-29</td>\n",
       "      <td>Iran</td>\n",
       "      <td>593.0</td>\n",
       "      <td>43.0</td>\n",
       "      <td>123.0</td>\n",
       "      <td>427.0</td>\n",
       "      <td>1.519573</td>\n",
       "      <td>0.072513</td>\n",
       "    </tr>\n",
       "    <tr>\n",
       "      <th>1182</th>\n",
       "      <td>2020-03-01</td>\n",
       "      <td>Iran</td>\n",
       "      <td>978.0</td>\n",
       "      <td>54.0</td>\n",
       "      <td>175.0</td>\n",
       "      <td>749.0</td>\n",
       "      <td>1.754098</td>\n",
       "      <td>0.055215</td>\n",
       "    </tr>\n",
       "    <tr>\n",
       "      <th>1252</th>\n",
       "      <td>2020-03-02</td>\n",
       "      <td>Iran</td>\n",
       "      <td>1501.0</td>\n",
       "      <td>66.0</td>\n",
       "      <td>291.0</td>\n",
       "      <td>1144.0</td>\n",
       "      <td>1.527370</td>\n",
       "      <td>0.043971</td>\n",
       "    </tr>\n",
       "    <tr>\n",
       "      <th>1329</th>\n",
       "      <td>2020-03-03</td>\n",
       "      <td>Iran</td>\n",
       "      <td>2336.0</td>\n",
       "      <td>77.0</td>\n",
       "      <td>291.0</td>\n",
       "      <td>1968.0</td>\n",
       "      <td>1.720280</td>\n",
       "      <td>0.032962</td>\n",
       "    </tr>\n",
       "    <tr>\n",
       "      <th>1411</th>\n",
       "      <td>2020-03-04</td>\n",
       "      <td>Iran</td>\n",
       "      <td>2922.0</td>\n",
       "      <td>92.0</td>\n",
       "      <td>552.0</td>\n",
       "      <td>2278.0</td>\n",
       "      <td>1.157520</td>\n",
       "      <td>0.031485</td>\n",
       "    </tr>\n",
       "    <tr>\n",
       "      <th>1498</th>\n",
       "      <td>2020-03-05</td>\n",
       "      <td>Iran</td>\n",
       "      <td>3513.0</td>\n",
       "      <td>107.0</td>\n",
       "      <td>739.0</td>\n",
       "      <td>2667.0</td>\n",
       "      <td>1.170764</td>\n",
       "      <td>0.030458</td>\n",
       "    </tr>\n",
       "    <tr>\n",
       "      <th>1592</th>\n",
       "      <td>2020-03-06</td>\n",
       "      <td>Iran</td>\n",
       "      <td>4747.0</td>\n",
       "      <td>124.0</td>\n",
       "      <td>913.0</td>\n",
       "      <td>3710.0</td>\n",
       "      <td>1.391076</td>\n",
       "      <td>0.026122</td>\n",
       "    </tr>\n",
       "    <tr>\n",
       "      <th>1692</th>\n",
       "      <td>2020-03-07</td>\n",
       "      <td>Iran</td>\n",
       "      <td>5823.0</td>\n",
       "      <td>145.0</td>\n",
       "      <td>1669.0</td>\n",
       "      <td>4009.0</td>\n",
       "      <td>1.080593</td>\n",
       "      <td>0.024901</td>\n",
       "    </tr>\n",
       "    <tr>\n",
       "      <th>1796</th>\n",
       "      <td>2020-03-08</td>\n",
       "      <td>Iran</td>\n",
       "      <td>6566.0</td>\n",
       "      <td>194.0</td>\n",
       "      <td>2134.0</td>\n",
       "      <td>4238.0</td>\n",
       "      <td>1.057121</td>\n",
       "      <td>0.029546</td>\n",
       "    </tr>\n",
       "    <tr>\n",
       "      <th>1906</th>\n",
       "      <td>2020-03-09</td>\n",
       "      <td>Iran</td>\n",
       "      <td>7161.0</td>\n",
       "      <td>237.0</td>\n",
       "      <td>2394.0</td>\n",
       "      <td>4530.0</td>\n",
       "      <td>1.068900</td>\n",
       "      <td>0.033096</td>\n",
       "    </tr>\n",
       "    <tr>\n",
       "      <th>2019</th>\n",
       "      <td>2020-03-10</td>\n",
       "      <td>Iran</td>\n",
       "      <td>8042.0</td>\n",
       "      <td>291.0</td>\n",
       "      <td>2731.0</td>\n",
       "      <td>5020.0</td>\n",
       "      <td>1.108168</td>\n",
       "      <td>0.036185</td>\n",
       "    </tr>\n",
       "    <tr>\n",
       "      <th>2134</th>\n",
       "      <td>2020-03-11</td>\n",
       "      <td>Iran</td>\n",
       "      <td>9000.0</td>\n",
       "      <td>354.0</td>\n",
       "      <td>2959.0</td>\n",
       "      <td>5687.0</td>\n",
       "      <td>1.132869</td>\n",
       "      <td>0.039333</td>\n",
       "    </tr>\n",
       "    <tr>\n",
       "      <th>2251</th>\n",
       "      <td>2020-03-12</td>\n",
       "      <td>Iran</td>\n",
       "      <td>10075.0</td>\n",
       "      <td>429.0</td>\n",
       "      <td>2959.0</td>\n",
       "      <td>6687.0</td>\n",
       "      <td>1.175840</td>\n",
       "      <td>0.042581</td>\n",
       "    </tr>\n",
       "    <tr>\n",
       "      <th>2374</th>\n",
       "      <td>2020-03-13</td>\n",
       "      <td>Iran</td>\n",
       "      <td>11364.0</td>\n",
       "      <td>514.0</td>\n",
       "      <td>2959.0</td>\n",
       "      <td>7891.0</td>\n",
       "      <td>1.180051</td>\n",
       "      <td>0.045231</td>\n",
       "    </tr>\n",
       "    <tr>\n",
       "      <th>2505</th>\n",
       "      <td>2020-03-14</td>\n",
       "      <td>Iran</td>\n",
       "      <td>12729.0</td>\n",
       "      <td>611.0</td>\n",
       "      <td>2959.0</td>\n",
       "      <td>9159.0</td>\n",
       "      <td>1.160689</td>\n",
       "      <td>0.048001</td>\n",
       "    </tr>\n",
       "    <tr>\n",
       "      <th>2650</th>\n",
       "      <td>2020-03-15</td>\n",
       "      <td>Iran</td>\n",
       "      <td>13938.0</td>\n",
       "      <td>724.0</td>\n",
       "      <td>4590.0</td>\n",
       "      <td>8624.0</td>\n",
       "      <td>0.941588</td>\n",
       "      <td>0.051944</td>\n",
       "    </tr>\n",
       "    <tr>\n",
       "      <th>2799</th>\n",
       "      <td>2020-03-16</td>\n",
       "      <td>Iran</td>\n",
       "      <td>14991.0</td>\n",
       "      <td>853.0</td>\n",
       "      <td>4590.0</td>\n",
       "      <td>9548.0</td>\n",
       "      <td>1.107143</td>\n",
       "      <td>0.056901</td>\n",
       "    </tr>\n",
       "    <tr>\n",
       "      <th>2956</th>\n",
       "      <td>2020-03-17</td>\n",
       "      <td>Iran</td>\n",
       "      <td>16169.0</td>\n",
       "      <td>988.0</td>\n",
       "      <td>5389.0</td>\n",
       "      <td>9792.0</td>\n",
       "      <td>1.025555</td>\n",
       "      <td>0.061105</td>\n",
       "    </tr>\n",
       "    <tr>\n",
       "      <th>3115</th>\n",
       "      <td>2020-03-18</td>\n",
       "      <td>Iran</td>\n",
       "      <td>17361.0</td>\n",
       "      <td>1135.0</td>\n",
       "      <td>5389.0</td>\n",
       "      <td>10837.0</td>\n",
       "      <td>1.106720</td>\n",
       "      <td>0.065376</td>\n",
       "    </tr>\n",
       "    <tr>\n",
       "      <th>3280</th>\n",
       "      <td>2020-03-19</td>\n",
       "      <td>Iran</td>\n",
       "      <td>18407.0</td>\n",
       "      <td>1284.0</td>\n",
       "      <td>5710.0</td>\n",
       "      <td>11413.0</td>\n",
       "      <td>1.053151</td>\n",
       "      <td>0.069756</td>\n",
       "    </tr>\n",
       "    <tr>\n",
       "      <th>3448</th>\n",
       "      <td>2020-03-20</td>\n",
       "      <td>Iran</td>\n",
       "      <td>19644.0</td>\n",
       "      <td>1433.0</td>\n",
       "      <td>6745.0</td>\n",
       "      <td>11466.0</td>\n",
       "      <td>1.004644</td>\n",
       "      <td>0.072948</td>\n",
       "    </tr>\n",
       "    <tr>\n",
       "      <th>3623</th>\n",
       "      <td>2020-03-21</td>\n",
       "      <td>Iran</td>\n",
       "      <td>20610.0</td>\n",
       "      <td>1556.0</td>\n",
       "      <td>7635.0</td>\n",
       "      <td>11419.0</td>\n",
       "      <td>0.995901</td>\n",
       "      <td>0.075497</td>\n",
       "    </tr>\n",
       "  </tbody>\n",
       "</table>\n",
       "</div>"
      ],
      "text/plain": [
       "           Date Country/Region  Confirmed  Deaths  Recovered  Current Case  \\\n",
       "697  2020-02-19           Iran        2.0     2.0        0.0           0.0   \n",
       "728  2020-02-20           Iran        5.0     2.0        0.0           3.0   \n",
       "759  2020-02-21           Iran       18.0     4.0        0.0          14.0   \n",
       "792  2020-02-22           Iran       28.0     5.0        0.0          23.0   \n",
       "825  2020-02-23           Iran       43.0     8.0        0.0          35.0   \n",
       "861  2020-02-24           Iran       61.0    12.0        0.0          49.0   \n",
       "902  2020-02-25           Iran       95.0    16.0        0.0          79.0   \n",
       "947  2020-02-26           Iran      139.0    19.0       49.0          71.0   \n",
       "998  2020-02-27           Iran      245.0    26.0       49.0         170.0   \n",
       "1054 2020-02-28           Iran      388.0    34.0       73.0         281.0   \n",
       "1114 2020-02-29           Iran      593.0    43.0      123.0         427.0   \n",
       "1182 2020-03-01           Iran      978.0    54.0      175.0         749.0   \n",
       "1252 2020-03-02           Iran     1501.0    66.0      291.0        1144.0   \n",
       "1329 2020-03-03           Iran     2336.0    77.0      291.0        1968.0   \n",
       "1411 2020-03-04           Iran     2922.0    92.0      552.0        2278.0   \n",
       "1498 2020-03-05           Iran     3513.0   107.0      739.0        2667.0   \n",
       "1592 2020-03-06           Iran     4747.0   124.0      913.0        3710.0   \n",
       "1692 2020-03-07           Iran     5823.0   145.0     1669.0        4009.0   \n",
       "1796 2020-03-08           Iran     6566.0   194.0     2134.0        4238.0   \n",
       "1906 2020-03-09           Iran     7161.0   237.0     2394.0        4530.0   \n",
       "2019 2020-03-10           Iran     8042.0   291.0     2731.0        5020.0   \n",
       "2134 2020-03-11           Iran     9000.0   354.0     2959.0        5687.0   \n",
       "2251 2020-03-12           Iran    10075.0   429.0     2959.0        6687.0   \n",
       "2374 2020-03-13           Iran    11364.0   514.0     2959.0        7891.0   \n",
       "2505 2020-03-14           Iran    12729.0   611.0     2959.0        9159.0   \n",
       "2650 2020-03-15           Iran    13938.0   724.0     4590.0        8624.0   \n",
       "2799 2020-03-16           Iran    14991.0   853.0     4590.0        9548.0   \n",
       "2956 2020-03-17           Iran    16169.0   988.0     5389.0        9792.0   \n",
       "3115 2020-03-18           Iran    17361.0  1135.0     5389.0       10837.0   \n",
       "3280 2020-03-19           Iran    18407.0  1284.0     5710.0       11413.0   \n",
       "3448 2020-03-20           Iran    19644.0  1433.0     6745.0       11466.0   \n",
       "3623 2020-03-21           Iran    20610.0  1556.0     7635.0       11419.0   \n",
       "\n",
       "        growth  death rate  \n",
       "697        NaN    1.000000  \n",
       "728        inf    0.400000  \n",
       "759   4.666667    0.222222  \n",
       "792   1.642857    0.178571  \n",
       "825   1.521739    0.186047  \n",
       "861   1.400000    0.196721  \n",
       "902   1.612245    0.168421  \n",
       "947   0.898734    0.136691  \n",
       "998   2.394366    0.106122  \n",
       "1054  1.652941    0.087629  \n",
       "1114  1.519573    0.072513  \n",
       "1182  1.754098    0.055215  \n",
       "1252  1.527370    0.043971  \n",
       "1329  1.720280    0.032962  \n",
       "1411  1.157520    0.031485  \n",
       "1498  1.170764    0.030458  \n",
       "1592  1.391076    0.026122  \n",
       "1692  1.080593    0.024901  \n",
       "1796  1.057121    0.029546  \n",
       "1906  1.068900    0.033096  \n",
       "2019  1.108168    0.036185  \n",
       "2134  1.132869    0.039333  \n",
       "2251  1.175840    0.042581  \n",
       "2374  1.180051    0.045231  \n",
       "2505  1.160689    0.048001  \n",
       "2650  0.941588    0.051944  \n",
       "2799  1.107143    0.056901  \n",
       "2956  1.025555    0.061105  \n",
       "3115  1.106720    0.065376  \n",
       "3280  1.053151    0.069756  \n",
       "3448  1.004644    0.072948  \n",
       "3623  0.995901    0.075497  "
      ]
     },
     "execution_count": 5,
     "metadata": {},
     "output_type": "execute_result"
    }
   ],
   "source": [
    "#Define growth rate and death rate for Italy, Iran and UK\n",
    "\n",
    "\n",
    "df_italy[\"Current Case\"]=df_italy[\"Confirmed\"]-df_italy[\"Deaths\"]-df_italy[\"Recovered\"]\n",
    "df_iran[\"Current Case\"] =df_iran[\"Confirmed\"] -df_iran[\"Deaths\"] -df_iran[\"Recovered\"]\n",
    "df_uk[\"Current Case\"]=df_uk[\"Confirmed\"]-df_uk[\"Deaths\"]-df_uk[\"Recovered\"]\n",
    "\n",
    "df_italy[\"growth\"]=df_italy[\"Current Case\"]/df_italy[\"Current Case\"].shift(+1)\n",
    "df_iran[\"growth\"]=df_iran[\"Current Case\"]/df_iran[\"Current Case\"].shift(+1)\n",
    "df_uk[\"growth\"]=df_uk[\"Current Case\"]/df_uk[\"Current Case\"].shift(+1)\n",
    "\n",
    "df_italy[\"death rate\"]=df_italy[\"Deaths\"]/df_italy[\"Confirmed\"]\n",
    "df_iran[\"death rate\"]=df_iran[\"Deaths\"]/df_iran[\"Confirmed\"]\n",
    "df_uk[\"death rate\"]=df_uk[\"Deaths\"]/df_uk[\"Confirmed\"]\n",
    "\n",
    "italy_growth = df_italy[[\"Date\",\"growth\"]]\n",
    "iran_growth = df_iran[[\"Date\",\"growth\"]]\n",
    "uk_growth = df_uk[[\"Date\",\"growth\"]]\n",
    "\n",
    "italy_death = df_italy[[\"Date\",\"death rate\"]]\n",
    "iran_death = df_iran[[\"Date\",\"death rate\"]]\n",
    "uk_death = df_uk[[\"Date\",\"death rate\"]]\n",
    "\n",
    "\n",
    "df_iran"
   ]
  },
  {
   "cell_type": "code",
   "execution_count": 51,
   "metadata": {},
   "outputs": [
    {
     "data": {
      "image/png": "[encoded data removed]",
      "text/plain": [
       "<Figure size 432x288 with 1 Axes>"
      ]
     },
     "metadata": {
      "needs_background": "light"
     },
     "output_type": "display_data"
    }
   ],
   "source": [
    "#plotting the diagram for growth rate\n",
    "#Italy vs Iran\n",
    "import matplotlib.pyplot as plt\n",
    "from matplotlib.pyplot import figure\n",
    "\n",
    "ax=italy_growth.plot(kind='line',x='Date',y='growth',color='red')\n",
    "y=iran_growth.plot(kind='line',x='Date',y='growth',color='orange',ax=ax)\n",
    "plt.legend(('Italy', 'Iran',),    loc='upper left')\n",
    "plt.ylabel(\"Growth Rate\")\n",
    "plt.xlabel(\"Date\")\n",
    "plt.title(\"Growth Rate of Italy vs Iran\")\n",
    "plt.show()\n",
    "y.figure.savefig('file1.pdf')\n",
    "\n",
    "\n",
    "\n",
    "\n"
   ]
  },
  {
   "cell_type": "code",
   "execution_count": 49,
   "metadata": {},
   "outputs": [
    {
     "data": {
      "image/png": "[encoded data removed]",
      "text/plain": [
       "<Figure size 432x288 with 1 Axes>"
      ]
     },
     "metadata": {
      "needs_background": "light"
     },
     "output_type": "display_data"
    }
   ],
   "source": [
    "#plotting the diagram for growth rate\n",
    "#Italy vs UK\n",
    "ax=italy_growth.plot(kind='line',x='Date',y='growth',color='red')\n",
    "y=uk_growth.plot(kind='line',x='Date',y='growth',color='blue',ax=ax)\n",
    "plt.legend(('Italy', 'UK'),    loc='upper left')\n",
    "plt.ylabel(\"Growth Rate\")\n",
    "plt.xlabel(\"Date\")\n",
    "plt.title(\"Growth Rate of Italy vs UK\")\n",
    "plt.show()\n",
    "y.figure.savefig('growthukItaly.pdf')\n"
   ]
  },
  {
   "cell_type": "code",
   "execution_count": 50,
   "metadata": {},
   "outputs": [
    {
     "data": {
      "image/png": "[encoded data removed]",
      "text/plain": [
       "<Figure size 432x288 with 1 Axes>"
      ]
     },
     "metadata": {
      "needs_background": "light"
     },
     "output_type": "display_data"
    }
   ],
   "source": [
    "#plotting the diagram for death rate\n",
    "#Iran vs Italy \n",
    "ax = plt.gca()\n",
    "italy_death.plot(kind='line',x='Date',y='death rate',color='red',ax=ax)\n",
    "y=iran_death.plot(kind='line',x='Date',y='death rate',color='orange',ax=ax)\n",
    "plt.legend(('Italy', 'Iran'),    loc='upper left')\n",
    "plt.ylabel(\"Death Rate\")\n",
    "plt.xlabel(\"Date\")\n",
    "plt.title(\"Death Rate of Italy vs Iran\")\n",
    "y.figure.savefig('deathiranItaly.pdf')\n",
    "plt.show()\n",
    "\n"
   ]
  },
  {
   "cell_type": "code",
   "execution_count": 9,
   "metadata": {},
   "outputs": [
    {
     "data": {
      "image/png": "[encoded data removed]",
      "text/plain": [
       "<Figure size 432x288 with 1 Axes>"
      ]
     },
     "metadata": {
      "needs_background": "light"
     },
     "output_type": "display_data"
    }
   ],
   "source": [
    "#plotting the diagram for death rate\n",
    "#UK vs Italy \n",
    "ax=italy_death.plot(kind='line',x='Date',y='death rate',color='red')\n",
    "y=uk_death.plot(kind='line',x='Date',y='death rate',color='blue',ax=ax)\n",
    "plt.legend(('Italy', 'UK'),    loc='upper left')\n",
    "plt.ylabel(\"Death Rate\")\n",
    "plt.xlabel(\"Date\")\n",
    "plt.title(\"Death Rate of Italy and UK\")\n",
    "y.figure.savefig('deathukItaly.pdf')\n",
    "\n",
    "plt.show()"
   ]
  },
  {
   "cell_type": "code",
   "execution_count": 10,
   "metadata": {},
   "outputs": [],
   "source": [
    "#Preparing the data for Regression\n",
    "#Italy\n",
    "df_italy= df_italy.dropna()\n",
    "df_italy['Day Number'] = range(1,df_italy.shape[0]+1)\n",
    "#df_italy\n",
    "X = df_italy.iloc[:, 8].values\n",
    "X =X.reshape(-1,1)\n",
    "y = df_italy.iloc[:, 6:7].values\n",
    "y =y.reshape(-1,1)\n",
    "\n"
   ]
  },
  {
   "cell_type": "code",
   "execution_count": 11,
   "metadata": {},
   "outputs": [
    {
     "data": {
      "text/plain": [
       "LinearRegression(copy_X=True, fit_intercept=True, n_jobs=None, normalize=False)"
      ]
     },
     "execution_count": 11,
     "metadata": {},
     "output_type": "execute_result"
    }
   ],
   "source": [
    "# Fitting Linear Regression to the dataset \n",
    "#Italy\n",
    "\n",
    "from sklearn.linear_model import LinearRegression \n",
    "lin = LinearRegression() \n",
    "  \n",
    "lin.fit(X, y) "
   ]
  },
  {
   "cell_type": "code",
   "execution_count": 12,
   "metadata": {},
   "outputs": [
    {
     "name": "stdout",
     "output_type": "stream",
     "text": [
      "0.215646476603325\n"
     ]
    }
   ],
   "source": [
    "#calculating RMSE for linear regression\n",
    "#Italy\n",
    "\n",
    "from sklearn.model_selection import train_test_split\n",
    "from sklearn.metrics import mean_squared_error\n",
    "from math import sqrt\n",
    "\n",
    "X_train, X_test, y_train, y_test = train_test_split(X, y, test_size=0.33)\n",
    "y_prediction = lin.predict(X_test)\n",
    "RMSE = sqrt(mean_squared_error(y_test, y_prediction))\n",
    "print(RMSE)"
   ]
  },
  {
   "cell_type": "code",
   "execution_count": 13,
   "metadata": {},
   "outputs": [
    {
     "data": {
      "text/plain": [
       "LinearRegression(copy_X=True, fit_intercept=True, n_jobs=None, normalize=False)"
      ]
     },
     "execution_count": 13,
     "metadata": {},
     "output_type": "execute_result"
    }
   ],
   "source": [
    "# Fitting Polynomial Regression to the dataset \n",
    "#Italy\n",
    "\n",
    "from sklearn.preprocessing import PolynomialFeatures \n",
    "  \n",
    "poly = PolynomialFeatures(degree = 2) \n",
    "X_poly = poly.fit_transform(X) \n",
    "  \n",
    "poly.fit(X_poly, y,) \n",
    "lin2 = LinearRegression() \n",
    "lin2.fit(X_poly, y)\n"
   ]
  },
  {
   "cell_type": "code",
   "execution_count": 14,
   "metadata": {},
   "outputs": [
    {
     "name": "stdout",
     "output_type": "stream",
     "text": [
      "0.3818304846622838\n"
     ]
    }
   ],
   "source": [
    "#calculating RMSE for polynomial regression\n",
    "#Italy\n",
    "\n",
    "X_train, X_test, y_train, y_test = train_test_split(X_poly, y, test_size=0.33)\n",
    "y_prediction = lin2.predict(X_test)\n",
    "RMSE = sqrt(mean_squared_error(y_test, y_prediction))\n",
    "print(RMSE)"
   ]
  },
  {
   "cell_type": "code",
   "execution_count": 15,
   "metadata": {},
   "outputs": [
    {
     "data": {
      "image/png": "[encoded data removed]",
      "text/plain": [
       "<Figure size 400x320 with 1 Axes>"
      ]
     },
     "metadata": {
      "needs_background": "light"
     },
     "output_type": "display_data"
    }
   ],
   "source": [
    "# Visualising the Linear Regression results\n",
    "#Italy\n",
    "\n",
    "fig = plt.figure(figsize=(10, 8), dpi=40)\n",
    "ax1 = fig.add_subplot(111)\n",
    "plt.scatter(X, y, color = 'blue') \n",
    "plt.plot(X, lin.predict(X), color = 'red') \n",
    "plt.title('Linear Regression of Italy') \n",
    "plt.xlabel('Day Number') \n",
    "plt.ylabel('Growth Rate') \n",
    "plt.show() \n",
    "ax1.figure.savefig('linregitaly.pdf')\n"
   ]
  },
  {
   "cell_type": "code",
   "execution_count": 16,
   "metadata": {},
   "outputs": [
    {
     "data": {
      "image/png": "[encoded data removed]",
      "text/plain": [
       "<Figure size 432x288 with 1 Axes>"
      ]
     },
     "metadata": {
      "needs_background": "light"
     },
     "output_type": "display_data"
    }
   ],
   "source": [
    "# Visualising the Polynomial Regression results \n",
    "#Italy\n",
    "plt.scatter(X, y, color = 'blue') \n",
    "  \n",
    "plt.plot(X, lin2.predict(poly.fit_transform(X)), color = 'red') \n",
    "plt.title('Polynomial Regression') \n",
    "plt.xlabel('Days') \n",
    "plt.ylabel('Growth Rate') \n",
    "  \n",
    "plt.show()"
   ]
  },
  {
   "cell_type": "code",
   "execution_count": 17,
   "metadata": {},
   "outputs": [],
   "source": [
    "#Prediction for the next 10 days\n",
    "#Italy\n",
    "df_italy_prediction = df_italy[['growth','Day Number']]\n",
    "\n",
    "predict = pd.DataFrame({'growth': [lin.predict(np.array([31]).reshape(-1,1))], 'Day Number': [31]})  \n",
    "for i in range (51,61):\n",
    "    df_italy_prediction = df_italy_prediction.append({'Day Number': i,'growth': float(lin.predict(np.array([i]).reshape(-1,1)))\n",
    "}, ignore_index=True)\n",
    "\n"
   ]
  },
  {
   "cell_type": "code",
   "execution_count": 18,
   "metadata": {},
   "outputs": [
    {
     "data": {
      "image/png": "[encoded data removed]",
      "text/plain": [
       "<Figure size 400x320 with 1 Axes>"
      ]
     },
     "metadata": {
      "needs_background": "light"
     },
     "output_type": "display_data"
    }
   ],
   "source": [
    "# Visualising the predictoin\n",
    "#Italy\n",
    "dff=df_italy[['growth','Day Number']]\n",
    "dfff=df_italy_prediction\n",
    "fig = plt.figure(figsize=(10, 8), dpi=40)\n",
    "ax = plt.gca()\n",
    "dff.plot(kind='line',x='Day Number',y='growth',color='red',ax=ax)\n",
    "dfff.plot(linestyle='dotted',x='Day Number',y='growth',color='red',ax=ax)\n",
    "plt.legend(('Real', 'Predication'),    loc='upper left')\n",
    "plt.xlabel(\"Day Number\")\n",
    "plt.ylabel(\"Growth Rate\")\n",
    "plt.title(\"Prediction of Growth Rate of Italy\")\n",
    "ax.figure.savefig('PredItaly.pdf')\n",
    "plt.show()"
   ]
  },
  {
   "cell_type": "code",
   "execution_count": 19,
   "metadata": {},
   "outputs": [],
   "source": [
    "#Preparing the data for Regression\n",
    "#UK\n",
    "df_uk= df_uk.dropna()\n",
    "df_uk['Day Number'] = range(1,df_uk.shape[0]+1)\n",
    "#df_italy\n",
    "X = df_uk.iloc[:, 8].values\n",
    "X =X.reshape(-1,1)\n",
    "y = df_uk.iloc[:, 6:7].values\n",
    "y =y.reshape(-1,1)"
   ]
  },
  {
   "cell_type": "code",
   "execution_count": 20,
   "metadata": {},
   "outputs": [
    {
     "data": {
      "text/plain": [
       "LinearRegression(copy_X=True, fit_intercept=True, n_jobs=None, normalize=False)"
      ]
     },
     "execution_count": 20,
     "metadata": {},
     "output_type": "execute_result"
    }
   ],
   "source": [
    "# Fitting Linear Regression to the dataset \n",
    "#UK\n",
    "lin = LinearRegression() \n",
    "lin.fit(X, y)\n",
    "poly = PolynomialFeatures(degree = 5) \n",
    "X_poly = poly.fit_transform(X) \n",
    "  \n",
    "poly.fit(X_poly, y,) \n",
    "lin2 = LinearRegression() \n",
    "lin2.fit(X_poly, y) "
   ]
  },
  {
   "cell_type": "code",
   "execution_count": 21,
   "metadata": {},
   "outputs": [
    {
     "data": {
      "image/png": "[encoded data removed]",
      "text/plain": [
       "<Figure size 400x320 with 1 Axes>"
      ]
     },
     "metadata": {
      "needs_background": "light"
     },
     "output_type": "display_data"
    }
   ],
   "source": [
    "# Visualising the Linear Regression results\n",
    "#UK\n",
    "fig = plt.figure(figsize=(10, 8), dpi=40)\n",
    "ax1 = fig.add_subplot(111)\n",
    "\n",
    "plt.scatter(X, y, color = 'blue') \n",
    "plt.plot(X, lin.predict(X), color = 'red') \n",
    "plt.title('Linear Regression of UK') \n",
    "plt.xlabel('Days') \n",
    "plt.ylabel('Growth Rate') \n",
    "  \n",
    "plt.show() \n",
    "ax1.figure.savefig('linreguk.pdf')\n"
   ]
  },
  {
   "cell_type": "code",
   "execution_count": 22,
   "metadata": {},
   "outputs": [
    {
     "name": "stdout",
     "output_type": "stream",
     "text": [
      "0.42381694513285\n"
     ]
    }
   ],
   "source": [
    "#calculating RMSE for linear regression\n",
    "#UK\n",
    "\n",
    "X_train, X_test, y_train, y_test = train_test_split(X, y, test_size=0.33)\n",
    "y_prediction = lin.predict(X_test)\n",
    "RMSE = sqrt(mean_squared_error(y_test, y_prediction))\n",
    "print(RMSE)"
   ]
  },
  {
   "cell_type": "code",
   "execution_count": 23,
   "metadata": {},
   "outputs": [
    {
     "data": {
      "image/png": "[encoded data removed]",
      "text/plain": [
       "<Figure size 400x320 with 1 Axes>"
      ]
     },
     "metadata": {
      "needs_background": "light"
     },
     "output_type": "display_data"
    }
   ],
   "source": [
    "# Visualising the Polynomial Regression results \n",
    "#UK\n",
    "fig = plt.figure(figsize=(10, 8), dpi=40)\n",
    "ax1 = fig.add_subplot(111)\n",
    "plt.scatter(X, y, color = 'blue') \n",
    "  \n",
    "plt.plot(X, lin2.predict(poly.fit_transform(X)), color = 'red') \n",
    "plt.title('Polynomial Regression of UK') \n",
    "plt.xlabel('Days') \n",
    "plt.ylabel('Growth Rate') \n",
    "  \n",
    "plt.show()\n",
    "ax1.figure.savefig('polyreguk.pdf')\n"
   ]
  },
  {
   "cell_type": "code",
   "execution_count": 24,
   "metadata": {},
   "outputs": [
    {
     "name": "stdout",
     "output_type": "stream",
     "text": [
      "0.9367164299655235\n"
     ]
    }
   ],
   "source": [
    "#calculating RMSE for polynomial regression\n",
    "#UK\n",
    "\n",
    "X_train, X_test, y_train, y_test = train_test_split(X_poly, y, test_size=0.33)\n",
    "y_prediction = lin2.predict(X_test)\n",
    "RMSE = sqrt(mean_squared_error(y_test, y_prediction))\n",
    "print(RMSE)"
   ]
  },
  {
   "cell_type": "code",
   "execution_count": 25,
   "metadata": {},
   "outputs": [
    {
     "data": {
      "text/plain": [
       "50"
      ]
     },
     "execution_count": 25,
     "metadata": {},
     "output_type": "execute_result"
    }
   ],
   "source": [
    "len(df_uk)"
   ]
  },
  {
   "cell_type": "code",
   "execution_count": 26,
   "metadata": {},
   "outputs": [
    {
     "data": {
      "image/png": "[encoded data removed]",
      "text/plain": [
       "<Figure size 400x320 with 1 Axes>"
      ]
     },
     "metadata": {
      "needs_background": "light"
     },
     "output_type": "display_data"
    }
   ],
   "source": [
    "#Prediction for the next 10 days\n",
    "# Visualising the predictoin\n",
    "#UK\n",
    "df_uk_prediction = df_uk[['growth','Day Number']]\n",
    "\n",
    "for i in range (51,61):\n",
    "    df_uk_prediction = df_uk_prediction.append({'Day Number': i,'growth': float(lin.predict(np.array([i]).reshape(-1,1)))\n",
    "}, ignore_index=True)\n",
    "    \n",
    "dff=df_uk[['growth','Day Number']]\n",
    "dfff=df_uk_prediction\n",
    "fig = plt.figure(figsize=(10, 8), dpi=40)\n",
    "ax = plt.gca()\n",
    "\n",
    "dff.plot(kind='line',x='Day Number',y='growth',color='blue',ax=ax)\n",
    "dfff.plot(linestyle='dotted',x='Day Number',y='growth',color='blue',ax=ax)\n",
    "plt.legend(('Real', 'Predication'),    loc='upper left')\n",
    "plt.ylabel(\"Growth rate\")\n",
    "plt.xlabel(\"Day Number\")\n",
    "plt.title(\"Prediction of Growth Rate of UK\")\n",
    "ax.figure.savefig('Preduk.pdf')\n",
    "plt.show()\n"
   ]
  },
  {
   "cell_type": "code",
   "execution_count": 27,
   "metadata": {},
   "outputs": [],
   "source": [
    "#Preparing the data for Regression\n",
    "#Iran\n",
    "df_iran= df_iran.drop([728]).dropna()\n",
    "df_iran['Day Number'] = range(1,df_iran.shape[0]+1)\n",
    "\n",
    "X = df_iran.iloc[:, 8].values\n",
    "X =X.reshape(-1,1)\n",
    "y = df_iran.iloc[:, 6:7].values\n",
    "y =y.reshape(-1,1)\n",
    "\n",
    "\n"
   ]
  },
  {
   "cell_type": "code",
   "execution_count": 28,
   "metadata": {},
   "outputs": [
    {
     "data": {
      "text/plain": [
       "LinearRegression(copy_X=True, fit_intercept=True, n_jobs=None, normalize=False)"
      ]
     },
     "execution_count": 28,
     "metadata": {},
     "output_type": "execute_result"
    }
   ],
   "source": [
    "# Fitting Linear Regression to the dataset \n",
    "#Iran\n",
    "liniran = LinearRegression() \n",
    "liniran.fit(X, y)\n",
    "poly = PolynomialFeatures(degree = 3) \n",
    "X_poly = poly.fit_transform(X) \n",
    "  \n",
    "poly.fit(X_poly, y,) \n",
    "liniranpoly = LinearRegression() \n",
    "liniranpoly.fit(X_poly, y)"
   ]
  },
  {
   "cell_type": "code",
   "execution_count": 29,
   "metadata": {},
   "outputs": [
    {
     "data": {
      "image/png": "[encoded data removed]",
      "text/plain": [
       "<Figure size 400x320 with 1 Axes>"
      ]
     },
     "metadata": {
      "needs_background": "light"
     },
     "output_type": "display_data"
    }
   ],
   "source": [
    "# Visualising the linear Regression results \n",
    "#Iran\n",
    "fig = plt.figure(figsize=(10, 8), dpi=40)\n",
    "ax1 = fig.add_subplot(111)\n",
    "\n",
    "plt.scatter(X, y, color = 'blue') \n",
    "  \n",
    "plt.plot(X, liniran.predict(X), color = 'red') \n",
    "plt.title('Linear Regression of Iran') \n",
    "plt.xlabel('Days') \n",
    "plt.ylabel('Growth Rate') \n",
    "  \n",
    "plt.show()\n",
    "ax1.figure.savefig('iranregiran.pdf')\n"
   ]
  },
  {
   "cell_type": "code",
   "execution_count": 30,
   "metadata": {},
   "outputs": [
    {
     "name": "stdout",
     "output_type": "stream",
     "text": [
      "0.8677737731599435\n"
     ]
    }
   ],
   "source": [
    "#Calculating RMSE for linear regression\n",
    "#Iran\n",
    "\n",
    "X_train, X_test, y_train, y_test = train_test_split(X, y, test_size=0.33)\n",
    "y_prediction = liniran.predict(X_test)\n",
    "RMSE = sqrt(mean_squared_error(y_test, y_prediction))\n",
    "print(RMSE)"
   ]
  },
  {
   "cell_type": "code",
   "execution_count": 31,
   "metadata": {},
   "outputs": [
    {
     "data": {
      "image/png": "[encoded data removed]",
      "text/plain": [
       "<Figure size 400x320 with 1 Axes>"
      ]
     },
     "metadata": {
      "needs_background": "light"
     },
     "output_type": "display_data"
    }
   ],
   "source": [
    "# Visualising the Polynomial Regression results \n",
    "#Iran\n",
    "fig = plt.figure(figsize=(10, 8), dpi=40)\n",
    "ax1 = fig.add_subplot(111)\n",
    "plt.scatter(X, y, color = 'blue') \n",
    "  \n",
    "plt.plot(X, liniranpoly.predict(poly.fit_transform(X)), color = 'red') \n",
    "plt.title('Polynomial Regression of Iran') \n",
    "plt.xlabel('Days') \n",
    "plt.ylabel('Growth Rate') \n",
    "  \n",
    "plt.show()\n",
    "ax1.figure.savefig('polyregiran.pdf')\n"
   ]
  },
  {
   "cell_type": "code",
   "execution_count": 32,
   "metadata": {},
   "outputs": [
    {
     "name": "stdout",
     "output_type": "stream",
     "text": [
      "0.3563303923792662\n"
     ]
    }
   ],
   "source": [
    "#Calculating RMSE for linear regression\n",
    "#Iran\n",
    "\n",
    "X_train, X_test, y_train, y_test = train_test_split(X_poly, y, test_size=0.33)\n",
    "y_prediction = liniranpoly.predict(X_test)\n",
    "RMSE = sqrt(mean_squared_error(y_test, y_prediction))\n",
    "print(RMSE)\n"
   ]
  },
  {
   "cell_type": "code",
   "execution_count": 33,
   "metadata": {},
   "outputs": [
    {
     "data": {
      "image/png": "[encoded data removed]",
      "text/plain": [
       "<Figure size 400x320 with 1 Axes>"
      ]
     },
     "metadata": {
      "needs_background": "light"
     },
     "output_type": "display_data"
    }
   ],
   "source": [
    "#Prediction for the next 10 days\n",
    "# Visualising the predictoin\n",
    "#Iran\n",
    "df_iran_prediction = df_iran[['growth','Day Number']]\n",
    "\n",
    "for i in range (31,35):\n",
    "    df_iran_prediction = df_iran_prediction.append({'Day Number': i,'growth': float(liniranpoly.predict(poly.fit_transform(np.array([i]).reshape(-1,1))))\n",
    "}, ignore_index=True)\n",
    "    \n",
    "dff=df_iran[['growth','Day Number']]\n",
    "dfff=df_iran_prediction\n",
    "fig = plt.figure(figsize=(10, 8), dpi=40)\n",
    "ax = plt.gca()\n",
    "\n",
    "dff.plot(kind='line',x='Day Number',y='growth',color='orange',ax=ax)\n",
    "dfff.plot(linestyle='dotted',x='Day Number',y='growth',color='orange',ax=ax)\n",
    "plt.legend(('Real', 'Predication'),    loc='upper left')\n",
    "plt.ylabel(\"Growth Rate\")\n",
    "plt.xlabel(\"Day Number\")\n",
    "plt.title(\"Prediction of Growth Rate of Iran\")\n",
    "ax.figure.savefig('PredIran.pdf')\n",
    "plt.show()"
   ]
  },
  {
   "cell_type": "code",
   "execution_count": 34,
   "metadata": {},
   "outputs": [
    {
     "data": {
      "text/plain": [
       "LinearRegression(copy_X=True, fit_intercept=True, n_jobs=None, normalize=False)"
      ]
     },
     "execution_count": 34,
     "metadata": {},
     "output_type": "execute_result"
    }
   ],
   "source": [
    "#Regression of death rate\n",
    "#Italy\n",
    "df_italy = df_italy.iloc[20:]\n",
    "X = df_italy.iloc[:, 8].values\n",
    "X =X.reshape(-1,1)\n",
    "y = df_italy.iloc[:, 7:8].values\n",
    "y =y.reshape(-1,1)\n",
    "lin = LinearRegression() \n",
    "  \n",
    "lin.fit(X, y) \n",
    "poly = PolynomialFeatures(degree = 3) \n",
    "X_poly = poly.fit_transform(X) \n",
    "  \n",
    "poly.fit(X_poly, y,) \n",
    "lin2 = LinearRegression() \n",
    "lin2.fit(X_poly, y) "
   ]
  },
  {
   "cell_type": "code",
   "execution_count": 35,
   "metadata": {},
   "outputs": [
    {
     "data": {
      "image/png": "[encoded data removed]",
      "text/plain": [
       "<Figure size 400x320 with 1 Axes>"
      ]
     },
     "metadata": {
      "needs_background": "light"
     },
     "output_type": "display_data"
    }
   ],
   "source": [
    "#visiulaizing the Linear Regression\n",
    "#Italy\n",
    "fig = plt.figure(figsize=(10, 8), dpi=40)\n",
    "ax1 = fig.add_subplot(111)\n",
    "\n",
    "plt.scatter(X, y, color = 'blue') \n",
    "  \n",
    "plt.plot(X, lin.predict(X), color = 'red') \n",
    "plt.title('Linear Regression of Italy') \n",
    "plt.xlabel('Day Number') \n",
    "plt.ylabel('Death Rate') \n",
    "  \n",
    "plt.show()\n",
    "ax1.figure.savefig('linregdeathitaly.pdf')\n"
   ]
  },
  {
   "cell_type": "code",
   "execution_count": 36,
   "metadata": {},
   "outputs": [
    {
     "name": "stdout",
     "output_type": "stream",
     "text": [
      "0.006553518622767802\n"
     ]
    }
   ],
   "source": [
    "#Calulating the RMSE for linear regression\n",
    "#Italy\n",
    "\n",
    "X_train, X_test, y_train, y_test = train_test_split(X, y, test_size=0.33)\n",
    "y_prediction = lin.predict(X_test)\n",
    "RMSE = sqrt(mean_squared_error(y_test, y_prediction))\n",
    "print(RMSE)"
   ]
  },
  {
   "cell_type": "code",
   "execution_count": 37,
   "metadata": {},
   "outputs": [
    {
     "data": {
      "image/png": "[encoded data removed]",
      "text/plain": [
       "<Figure size 400x320 with 1 Axes>"
      ]
     },
     "metadata": {
      "needs_background": "light"
     },
     "output_type": "display_data"
    }
   ],
   "source": [
    "# Visualising the Polynomial Regression results \n",
    "#Italy\n",
    "fig = plt.figure(figsize=(10, 8), dpi=40)\n",
    "ax1 = fig.add_subplot(111)\n",
    "plt.scatter(X, y, color = 'blue') \n",
    "  \n",
    "plt.plot(X, lin2.predict(poly.fit_transform(X)), color = 'red') \n",
    "plt.title('Polynomial Regression of Italy') \n",
    "plt.xlabel('Day') \n",
    "plt.ylabel('Death Rate') \n",
    "  \n",
    "plt.show()\n",
    "ax1.figure.savefig('polyregdeathitaly.pdf')\n"
   ]
  },
  {
   "cell_type": "code",
   "execution_count": 38,
   "metadata": {},
   "outputs": [
    {
     "name": "stdout",
     "output_type": "stream",
     "text": [
      "0.004241694180328835\n"
     ]
    }
   ],
   "source": [
    "#Calculating RMSE for Polynomial Regression\n",
    "#Italy\n",
    "X_train, X_test, y_train, y_test = train_test_split(X_poly, y, test_size=0.33)\n",
    "y_prediction = lin2.predict(X_test)\n",
    "RMSE = sqrt(mean_squared_error(y_test, y_prediction))\n",
    "print(RMSE)"
   ]
  },
  {
   "cell_type": "code",
   "execution_count": 39,
   "metadata": {},
   "outputs": [
    {
     "data": {
      "text/plain": [
       "LinearRegression(copy_X=True, fit_intercept=True, n_jobs=None, normalize=False)"
      ]
     },
     "execution_count": 39,
     "metadata": {},
     "output_type": "execute_result"
    }
   ],
   "source": [
    "#Regression of death rate\n",
    "#Iran\n",
    "X = df_iran.iloc[:, 8].values\n",
    "X =X.reshape(-1,1)\n",
    "y = df_iran.iloc[:, 7:8].values\n",
    "y =y.reshape(-1,1)\n",
    "lin = LinearRegression() \n",
    "  \n",
    "lin.fit(X, y) \n",
    "poly = PolynomialFeatures(degree = 3) \n",
    "X_poly = poly.fit_transform(X) \n",
    "  \n",
    "poly.fit(X_poly, y,) \n",
    "lin2 = LinearRegression() \n",
    "lin2.fit(X_poly, y)"
   ]
  },
  {
   "cell_type": "code",
   "execution_count": 40,
   "metadata": {},
   "outputs": [
    {
     "data": {
      "image/png": "[encoded data removed]",
      "text/plain": [
       "<Figure size 432x288 with 1 Axes>"
      ]
     },
     "metadata": {
      "needs_background": "light"
     },
     "output_type": "display_data"
    }
   ],
   "source": [
    "# Visualising the Linear Regression results \n",
    "#Iran\n",
    "plt.scatter(X, y, color = 'blue') \n",
    "  \n",
    "plt.plot(X, lin.predict(X), color = 'red') \n",
    "plt.title('Linear Regression of Iran') \n",
    "plt.xlabel('Day Number') \n",
    "plt.ylabel('Death Rate') \n",
    "  \n",
    "plt.show()"
   ]
  },
  {
   "cell_type": "code",
   "execution_count": 41,
   "metadata": {},
   "outputs": [
    {
     "data": {
      "image/png": "[encoded data removed]",
      "text/plain": [
       "<Figure size 400x320 with 1 Axes>"
      ]
     },
     "metadata": {
      "needs_background": "light"
     },
     "output_type": "display_data"
    }
   ],
   "source": [
    "# Visualising the Polynomial Regression results \n",
    "#Iran\n",
    "fig = plt.figure(figsize=(10, 8), dpi=40)\n",
    "ax1 = fig.add_subplot(111)\n",
    "plt.scatter(X, y, color = 'blue') \n",
    "  \n",
    "plt.plot(X, lin2.predict(poly.fit_transform(X)), color = 'red') \n",
    "plt.title('Polynomial Regression of Iran') \n",
    "plt.xlabel('Day Number') \n",
    "plt.ylabel('Death Rate') \n",
    "  \n",
    "plt.show()\n",
    "ax1.figure.savefig('polyregdeathiran.pdf')\n"
   ]
  },
  {
   "cell_type": "code",
   "execution_count": 42,
   "metadata": {},
   "outputs": [
    {
     "data": {
      "text/html": [
       "<div>\n",
       "<style scoped>\n",
       "    .dataframe tbody tr th:only-of-type {\n",
       "        vertical-align: middle;\n",
       "    }\n",
       "\n",
       "    .dataframe tbody tr th {\n",
       "        vertical-align: top;\n",
       "    }\n",
       "\n",
       "    .dataframe thead th {\n",
       "        text-align: right;\n",
       "    }\n",
       "</style>\n",
       "<table border=\"1\" class=\"dataframe\">\n",
       "  <thead>\n",
       "    <tr style=\"text-align: right;\">\n",
       "      <th></th>\n",
       "      <th>Date</th>\n",
       "      <th>Country/Region</th>\n",
       "      <th>Confirmed</th>\n",
       "      <th>Deaths</th>\n",
       "      <th>Recovered</th>\n",
       "      <th>Current Case</th>\n",
       "      <th>growth</th>\n",
       "      <th>death rate</th>\n",
       "      <th>Day Number</th>\n",
       "    </tr>\n",
       "  </thead>\n",
       "  <tbody>\n",
       "    <tr>\n",
       "      <th>193</th>\n",
       "      <td>2020-02-01</td>\n",
       "      <td>United Kingdom</td>\n",
       "      <td>2.0</td>\n",
       "      <td>0.0</td>\n",
       "      <td>0.0</td>\n",
       "      <td>2.0</td>\n",
       "      <td>1.000000</td>\n",
       "      <td>0.0</td>\n",
       "      <td>1</td>\n",
       "    </tr>\n",
       "    <tr>\n",
       "      <th>220</th>\n",
       "      <td>2020-02-02</td>\n",
       "      <td>United Kingdom</td>\n",
       "      <td>2.0</td>\n",
       "      <td>0.0</td>\n",
       "      <td>0.0</td>\n",
       "      <td>2.0</td>\n",
       "      <td>1.000000</td>\n",
       "      <td>0.0</td>\n",
       "      <td>2</td>\n",
       "    </tr>\n",
       "    <tr>\n",
       "      <th>247</th>\n",
       "      <td>2020-02-03</td>\n",
       "      <td>United Kingdom</td>\n",
       "      <td>2.0</td>\n",
       "      <td>0.0</td>\n",
       "      <td>0.0</td>\n",
       "      <td>2.0</td>\n",
       "      <td>1.000000</td>\n",
       "      <td>0.0</td>\n",
       "      <td>3</td>\n",
       "    </tr>\n",
       "    <tr>\n",
       "      <th>275</th>\n",
       "      <td>2020-02-04</td>\n",
       "      <td>United Kingdom</td>\n",
       "      <td>2.0</td>\n",
       "      <td>0.0</td>\n",
       "      <td>0.0</td>\n",
       "      <td>2.0</td>\n",
       "      <td>1.000000</td>\n",
       "      <td>0.0</td>\n",
       "      <td>4</td>\n",
       "    </tr>\n",
       "    <tr>\n",
       "      <th>303</th>\n",
       "      <td>2020-02-05</td>\n",
       "      <td>United Kingdom</td>\n",
       "      <td>2.0</td>\n",
       "      <td>0.0</td>\n",
       "      <td>0.0</td>\n",
       "      <td>2.0</td>\n",
       "      <td>1.000000</td>\n",
       "      <td>0.0</td>\n",
       "      <td>5</td>\n",
       "    </tr>\n",
       "    <tr>\n",
       "      <th>331</th>\n",
       "      <td>2020-02-06</td>\n",
       "      <td>United Kingdom</td>\n",
       "      <td>2.0</td>\n",
       "      <td>0.0</td>\n",
       "      <td>0.0</td>\n",
       "      <td>2.0</td>\n",
       "      <td>1.000000</td>\n",
       "      <td>0.0</td>\n",
       "      <td>6</td>\n",
       "    </tr>\n",
       "    <tr>\n",
       "      <th>360</th>\n",
       "      <td>2020-02-07</td>\n",
       "      <td>United Kingdom</td>\n",
       "      <td>3.0</td>\n",
       "      <td>0.0</td>\n",
       "      <td>0.0</td>\n",
       "      <td>3.0</td>\n",
       "      <td>1.500000</td>\n",
       "      <td>0.0</td>\n",
       "      <td>7</td>\n",
       "    </tr>\n",
       "    <tr>\n",
       "      <th>389</th>\n",
       "      <td>2020-02-08</td>\n",
       "      <td>United Kingdom</td>\n",
       "      <td>3.0</td>\n",
       "      <td>0.0</td>\n",
       "      <td>0.0</td>\n",
       "      <td>3.0</td>\n",
       "      <td>1.000000</td>\n",
       "      <td>0.0</td>\n",
       "      <td>8</td>\n",
       "    </tr>\n",
       "    <tr>\n",
       "      <th>418</th>\n",
       "      <td>2020-02-09</td>\n",
       "      <td>United Kingdom</td>\n",
       "      <td>3.0</td>\n",
       "      <td>0.0</td>\n",
       "      <td>0.0</td>\n",
       "      <td>3.0</td>\n",
       "      <td>1.000000</td>\n",
       "      <td>0.0</td>\n",
       "      <td>9</td>\n",
       "    </tr>\n",
       "    <tr>\n",
       "      <th>447</th>\n",
       "      <td>2020-02-10</td>\n",
       "      <td>United Kingdom</td>\n",
       "      <td>8.0</td>\n",
       "      <td>0.0</td>\n",
       "      <td>0.0</td>\n",
       "      <td>8.0</td>\n",
       "      <td>2.666667</td>\n",
       "      <td>0.0</td>\n",
       "      <td>10</td>\n",
       "    </tr>\n",
       "    <tr>\n",
       "      <th>476</th>\n",
       "      <td>2020-02-11</td>\n",
       "      <td>United Kingdom</td>\n",
       "      <td>8.0</td>\n",
       "      <td>0.0</td>\n",
       "      <td>0.0</td>\n",
       "      <td>8.0</td>\n",
       "      <td>1.000000</td>\n",
       "      <td>0.0</td>\n",
       "      <td>11</td>\n",
       "    </tr>\n",
       "    <tr>\n",
       "      <th>505</th>\n",
       "      <td>2020-02-12</td>\n",
       "      <td>United Kingdom</td>\n",
       "      <td>9.0</td>\n",
       "      <td>0.0</td>\n",
       "      <td>1.0</td>\n",
       "      <td>8.0</td>\n",
       "      <td>1.000000</td>\n",
       "      <td>0.0</td>\n",
       "      <td>12</td>\n",
       "    </tr>\n",
       "    <tr>\n",
       "      <th>534</th>\n",
       "      <td>2020-02-13</td>\n",
       "      <td>United Kingdom</td>\n",
       "      <td>9.0</td>\n",
       "      <td>0.0</td>\n",
       "      <td>1.0</td>\n",
       "      <td>8.0</td>\n",
       "      <td>1.000000</td>\n",
       "      <td>0.0</td>\n",
       "      <td>13</td>\n",
       "    </tr>\n",
       "    <tr>\n",
       "      <th>564</th>\n",
       "      <td>2020-02-14</td>\n",
       "      <td>United Kingdom</td>\n",
       "      <td>9.0</td>\n",
       "      <td>0.0</td>\n",
       "      <td>1.0</td>\n",
       "      <td>8.0</td>\n",
       "      <td>1.000000</td>\n",
       "      <td>0.0</td>\n",
       "      <td>14</td>\n",
       "    </tr>\n",
       "    <tr>\n",
       "      <th>594</th>\n",
       "      <td>2020-02-15</td>\n",
       "      <td>United Kingdom</td>\n",
       "      <td>9.0</td>\n",
       "      <td>0.0</td>\n",
       "      <td>1.0</td>\n",
       "      <td>8.0</td>\n",
       "      <td>1.000000</td>\n",
       "      <td>0.0</td>\n",
       "      <td>15</td>\n",
       "    </tr>\n",
       "    <tr>\n",
       "      <th>624</th>\n",
       "      <td>2020-02-16</td>\n",
       "      <td>United Kingdom</td>\n",
       "      <td>9.0</td>\n",
       "      <td>0.0</td>\n",
       "      <td>8.0</td>\n",
       "      <td>1.0</td>\n",
       "      <td>0.125000</td>\n",
       "      <td>0.0</td>\n",
       "      <td>16</td>\n",
       "    </tr>\n",
       "    <tr>\n",
       "      <th>654</th>\n",
       "      <td>2020-02-17</td>\n",
       "      <td>United Kingdom</td>\n",
       "      <td>9.0</td>\n",
       "      <td>0.0</td>\n",
       "      <td>8.0</td>\n",
       "      <td>1.0</td>\n",
       "      <td>1.000000</td>\n",
       "      <td>0.0</td>\n",
       "      <td>17</td>\n",
       "    </tr>\n",
       "    <tr>\n",
       "      <th>684</th>\n",
       "      <td>2020-02-18</td>\n",
       "      <td>United Kingdom</td>\n",
       "      <td>9.0</td>\n",
       "      <td>0.0</td>\n",
       "      <td>8.0</td>\n",
       "      <td>1.0</td>\n",
       "      <td>1.000000</td>\n",
       "      <td>0.0</td>\n",
       "      <td>18</td>\n",
       "    </tr>\n",
       "    <tr>\n",
       "      <th>715</th>\n",
       "      <td>2020-02-19</td>\n",
       "      <td>United Kingdom</td>\n",
       "      <td>9.0</td>\n",
       "      <td>0.0</td>\n",
       "      <td>8.0</td>\n",
       "      <td>1.0</td>\n",
       "      <td>1.000000</td>\n",
       "      <td>0.0</td>\n",
       "      <td>19</td>\n",
       "    </tr>\n",
       "    <tr>\n",
       "      <th>746</th>\n",
       "      <td>2020-02-20</td>\n",
       "      <td>United Kingdom</td>\n",
       "      <td>9.0</td>\n",
       "      <td>0.0</td>\n",
       "      <td>8.0</td>\n",
       "      <td>1.0</td>\n",
       "      <td>1.000000</td>\n",
       "      <td>0.0</td>\n",
       "      <td>20</td>\n",
       "    </tr>\n",
       "    <tr>\n",
       "      <th>779</th>\n",
       "      <td>2020-02-21</td>\n",
       "      <td>United Kingdom</td>\n",
       "      <td>9.0</td>\n",
       "      <td>0.0</td>\n",
       "      <td>8.0</td>\n",
       "      <td>1.0</td>\n",
       "      <td>1.000000</td>\n",
       "      <td>0.0</td>\n",
       "      <td>21</td>\n",
       "    </tr>\n",
       "    <tr>\n",
       "      <th>812</th>\n",
       "      <td>2020-02-22</td>\n",
       "      <td>United Kingdom</td>\n",
       "      <td>9.0</td>\n",
       "      <td>0.0</td>\n",
       "      <td>8.0</td>\n",
       "      <td>1.0</td>\n",
       "      <td>1.000000</td>\n",
       "      <td>0.0</td>\n",
       "      <td>22</td>\n",
       "    </tr>\n",
       "    <tr>\n",
       "      <th>846</th>\n",
       "      <td>2020-02-23</td>\n",
       "      <td>United Kingdom</td>\n",
       "      <td>9.0</td>\n",
       "      <td>0.0</td>\n",
       "      <td>8.0</td>\n",
       "      <td>1.0</td>\n",
       "      <td>1.000000</td>\n",
       "      <td>0.0</td>\n",
       "      <td>23</td>\n",
       "    </tr>\n",
       "    <tr>\n",
       "      <th>884</th>\n",
       "      <td>2020-02-24</td>\n",
       "      <td>United Kingdom</td>\n",
       "      <td>13.0</td>\n",
       "      <td>0.0</td>\n",
       "      <td>8.0</td>\n",
       "      <td>5.0</td>\n",
       "      <td>5.000000</td>\n",
       "      <td>0.0</td>\n",
       "      <td>24</td>\n",
       "    </tr>\n",
       "    <tr>\n",
       "      <th>926</th>\n",
       "      <td>2020-02-25</td>\n",
       "      <td>United Kingdom</td>\n",
       "      <td>13.0</td>\n",
       "      <td>0.0</td>\n",
       "      <td>8.0</td>\n",
       "      <td>5.0</td>\n",
       "      <td>1.000000</td>\n",
       "      <td>0.0</td>\n",
       "      <td>25</td>\n",
       "    </tr>\n",
       "    <tr>\n",
       "      <th>975</th>\n",
       "      <td>2020-02-26</td>\n",
       "      <td>United Kingdom</td>\n",
       "      <td>13.0</td>\n",
       "      <td>0.0</td>\n",
       "      <td>8.0</td>\n",
       "      <td>5.0</td>\n",
       "      <td>1.000000</td>\n",
       "      <td>0.0</td>\n",
       "      <td>26</td>\n",
       "    </tr>\n",
       "    <tr>\n",
       "      <th>1028</th>\n",
       "      <td>2020-02-27</td>\n",
       "      <td>United Kingdom</td>\n",
       "      <td>15.0</td>\n",
       "      <td>0.0</td>\n",
       "      <td>8.0</td>\n",
       "      <td>7.0</td>\n",
       "      <td>1.400000</td>\n",
       "      <td>0.0</td>\n",
       "      <td>27</td>\n",
       "    </tr>\n",
       "    <tr>\n",
       "      <th>1089</th>\n",
       "      <td>2020-02-28</td>\n",
       "      <td>United Kingdom</td>\n",
       "      <td>20.0</td>\n",
       "      <td>0.0</td>\n",
       "      <td>8.0</td>\n",
       "      <td>12.0</td>\n",
       "      <td>1.714286</td>\n",
       "      <td>0.0</td>\n",
       "      <td>28</td>\n",
       "    </tr>\n",
       "    <tr>\n",
       "      <th>1152</th>\n",
       "      <td>2020-02-29</td>\n",
       "      <td>United Kingdom</td>\n",
       "      <td>23.0</td>\n",
       "      <td>0.0</td>\n",
       "      <td>8.0</td>\n",
       "      <td>15.0</td>\n",
       "      <td>1.250000</td>\n",
       "      <td>0.0</td>\n",
       "      <td>29</td>\n",
       "    </tr>\n",
       "    <tr>\n",
       "      <th>1220</th>\n",
       "      <td>2020-03-01</td>\n",
       "      <td>United Kingdom</td>\n",
       "      <td>36.0</td>\n",
       "      <td>0.0</td>\n",
       "      <td>8.0</td>\n",
       "      <td>28.0</td>\n",
       "      <td>1.866667</td>\n",
       "      <td>0.0</td>\n",
       "      <td>30</td>\n",
       "    </tr>\n",
       "    <tr>\n",
       "      <th>1295</th>\n",
       "      <td>2020-03-02</td>\n",
       "      <td>United Kingdom</td>\n",
       "      <td>40.0</td>\n",
       "      <td>0.0</td>\n",
       "      <td>8.0</td>\n",
       "      <td>32.0</td>\n",
       "      <td>1.142857</td>\n",
       "      <td>0.0</td>\n",
       "      <td>31</td>\n",
       "    </tr>\n",
       "    <tr>\n",
       "      <th>1374</th>\n",
       "      <td>2020-03-03</td>\n",
       "      <td>United Kingdom</td>\n",
       "      <td>51.0</td>\n",
       "      <td>0.0</td>\n",
       "      <td>8.0</td>\n",
       "      <td>43.0</td>\n",
       "      <td>1.343750</td>\n",
       "      <td>0.0</td>\n",
       "      <td>32</td>\n",
       "    </tr>\n",
       "    <tr>\n",
       "      <th>1460</th>\n",
       "      <td>2020-03-04</td>\n",
       "      <td>United Kingdom</td>\n",
       "      <td>85.0</td>\n",
       "      <td>0.0</td>\n",
       "      <td>8.0</td>\n",
       "      <td>77.0</td>\n",
       "      <td>1.790698</td>\n",
       "      <td>0.0</td>\n",
       "      <td>33</td>\n",
       "    </tr>\n",
       "  </tbody>\n",
       "</table>\n",
       "</div>"
      ],
      "text/plain": [
       "           Date  Country/Region  Confirmed  Deaths  Recovered  Current Case  \\\n",
       "193  2020-02-01  United Kingdom        2.0     0.0        0.0           2.0   \n",
       "220  2020-02-02  United Kingdom        2.0     0.0        0.0           2.0   \n",
       "247  2020-02-03  United Kingdom        2.0     0.0        0.0           2.0   \n",
       "275  2020-02-04  United Kingdom        2.0     0.0        0.0           2.0   \n",
       "303  2020-02-05  United Kingdom        2.0     0.0        0.0           2.0   \n",
       "331  2020-02-06  United Kingdom        2.0     0.0        0.0           2.0   \n",
       "360  2020-02-07  United Kingdom        3.0     0.0        0.0           3.0   \n",
       "389  2020-02-08  United Kingdom        3.0     0.0        0.0           3.0   \n",
       "418  2020-02-09  United Kingdom        3.0     0.0        0.0           3.0   \n",
       "447  2020-02-10  United Kingdom        8.0     0.0        0.0           8.0   \n",
       "476  2020-02-11  United Kingdom        8.0     0.0        0.0           8.0   \n",
       "505  2020-02-12  United Kingdom        9.0     0.0        1.0           8.0   \n",
       "534  2020-02-13  United Kingdom        9.0     0.0        1.0           8.0   \n",
       "564  2020-02-14  United Kingdom        9.0     0.0        1.0           8.0   \n",
       "594  2020-02-15  United Kingdom        9.0     0.0        1.0           8.0   \n",
       "624  2020-02-16  United Kingdom        9.0     0.0        8.0           1.0   \n",
       "654  2020-02-17  United Kingdom        9.0     0.0        8.0           1.0   \n",
       "684  2020-02-18  United Kingdom        9.0     0.0        8.0           1.0   \n",
       "715  2020-02-19  United Kingdom        9.0     0.0        8.0           1.0   \n",
       "746  2020-02-20  United Kingdom        9.0     0.0        8.0           1.0   \n",
       "779  2020-02-21  United Kingdom        9.0     0.0        8.0           1.0   \n",
       "812  2020-02-22  United Kingdom        9.0     0.0        8.0           1.0   \n",
       "846  2020-02-23  United Kingdom        9.0     0.0        8.0           1.0   \n",
       "884  2020-02-24  United Kingdom       13.0     0.0        8.0           5.0   \n",
       "926  2020-02-25  United Kingdom       13.0     0.0        8.0           5.0   \n",
       "975  2020-02-26  United Kingdom       13.0     0.0        8.0           5.0   \n",
       "1028 2020-02-27  United Kingdom       15.0     0.0        8.0           7.0   \n",
       "1089 2020-02-28  United Kingdom       20.0     0.0        8.0          12.0   \n",
       "1152 2020-02-29  United Kingdom       23.0     0.0        8.0          15.0   \n",
       "1220 2020-03-01  United Kingdom       36.0     0.0        8.0          28.0   \n",
       "1295 2020-03-02  United Kingdom       40.0     0.0        8.0          32.0   \n",
       "1374 2020-03-03  United Kingdom       51.0     0.0        8.0          43.0   \n",
       "1460 2020-03-04  United Kingdom       85.0     0.0        8.0          77.0   \n",
       "\n",
       "        growth  death rate  Day Number  \n",
       "193   1.000000         0.0           1  \n",
       "220   1.000000         0.0           2  \n",
       "247   1.000000         0.0           3  \n",
       "275   1.000000         0.0           4  \n",
       "303   1.000000         0.0           5  \n",
       "331   1.000000         0.0           6  \n",
       "360   1.500000         0.0           7  \n",
       "389   1.000000         0.0           8  \n",
       "418   1.000000         0.0           9  \n",
       "447   2.666667         0.0          10  \n",
       "476   1.000000         0.0          11  \n",
       "505   1.000000         0.0          12  \n",
       "534   1.000000         0.0          13  \n",
       "564   1.000000         0.0          14  \n",
       "594   1.000000         0.0          15  \n",
       "624   0.125000         0.0          16  \n",
       "654   1.000000         0.0          17  \n",
       "684   1.000000         0.0          18  \n",
       "715   1.000000         0.0          19  \n",
       "746   1.000000         0.0          20  \n",
       "779   1.000000         0.0          21  \n",
       "812   1.000000         0.0          22  \n",
       "846   1.000000         0.0          23  \n",
       "884   5.000000         0.0          24  \n",
       "926   1.000000         0.0          25  \n",
       "975   1.000000         0.0          26  \n",
       "1028  1.400000         0.0          27  \n",
       "1089  1.714286         0.0          28  \n",
       "1152  1.250000         0.0          29  \n",
       "1220  1.866667         0.0          30  \n",
       "1295  1.142857         0.0          31  \n",
       "1374  1.343750         0.0          32  \n",
       "1460  1.790698         0.0          33  "
      ]
     },
     "execution_count": 42,
     "metadata": {},
     "output_type": "execute_result"
    }
   ],
   "source": [
    "df_uk.head(33)"
   ]
  },
  {
   "cell_type": "code",
   "execution_count": 43,
   "metadata": {},
   "outputs": [],
   "source": [
    "#Removing the 32 first rowa from the dataset.\n",
    "df_uk = df_uk.iloc[32:]\n"
   ]
  },
  {
   "cell_type": "code",
   "execution_count": 44,
   "metadata": {},
   "outputs": [
    {
     "data": {
      "text/plain": [
       "LinearRegression(copy_X=True, fit_intercept=True, n_jobs=None, normalize=False)"
      ]
     },
     "execution_count": 44,
     "metadata": {},
     "output_type": "execute_result"
    }
   ],
   "source": [
    "#Calculating RMSE for Polynomial Regression\n",
    "#UK\n",
    "X = df_uk.iloc[:, 8].values\n",
    "X =X.reshape(-1,1)\n",
    "y = df_uk.iloc[:, 7:8].values\n",
    "y =y.reshape(-1,1)\n",
    "lin = LinearRegression() \n",
    "  \n",
    "lin.fit(X, y) \n",
    "poly = PolynomialFeatures(degree = 3) \n",
    "X_poly = poly.fit_transform(X) \n",
    "  \n",
    "poly.fit(X_poly, y,) \n",
    "lin2 = LinearRegression() \n",
    "lin2.fit(X_poly, y)"
   ]
  },
  {
   "cell_type": "code",
   "execution_count": 45,
   "metadata": {},
   "outputs": [
    {
     "data": {
      "image/png": "[encoded data removed]",
      "text/plain": [
       "<Figure size 432x288 with 1 Axes>"
      ]
     },
     "metadata": {
      "needs_background": "light"
     },
     "output_type": "display_data"
    }
   ],
   "source": [
    "# Visualising the Linear Regression results \n",
    "#UK\n",
    "plt.scatter(X, y, color = 'blue') \n",
    "  \n",
    "plt.plot(X, lin.predict(X), color = 'red') \n",
    "plt.title('Linear Regression of UK') \n",
    "plt.xlabel('Day Number') \n",
    "plt.ylabel('Death Rate') \n",
    "  \n",
    "plt.show()"
   ]
  },
  {
   "cell_type": "code",
   "execution_count": 46,
   "metadata": {},
   "outputs": [
    {
     "data": {
      "image/png": "[encoded data removed]",
      "text/plain": [
       "<Figure size 440x320 with 1 Axes>"
      ]
     },
     "metadata": {
      "needs_background": "light"
     },
     "output_type": "display_data"
    }
   ],
   "source": [
    "# Visualising the Polynomial Regression results \n",
    "#UK\n",
    "fig = plt.figure(figsize=(11, 8), dpi=40)\n",
    "ax1 = fig.add_subplot(111)\n",
    "plt.scatter(X, y, color = 'blue') \n",
    "  \n",
    "plt.plot(X, lin2.predict(poly.fit_transform(X)), color = 'red') \n",
    "plt.title('Polynomial Regression of UK') \n",
    "plt.xlabel('Day Number') \n",
    "plt.ylabel('Death Rate') \n",
    "  \n",
    "plt.show()\n",
    "ax1.figure.savefig('polyregdeathuk.pdf')\n"
   ]
  },
  {
   "cell_type": "code",
   "execution_count": null,
   "metadata": {},
   "outputs": [],
   "source": []
  }
 ],
 "metadata": {
  "kernelspec": {
   "display_name": "Python 3",
   "language": "python",
   "name": "python3"
  },
  "language_info": {
   "codemirror_mode": {
    "name": "ipython",
    "version": 3
   },
   "file_extension": ".py",
   "mimetype": "text/x-python",
   "name": "python",
   "nbconvert_exporter": "python",
   "pygments_lexer": "ipython3",
   "version": "3.8.1"
  }
 },
 "nbformat": 4,
 "nbformat_minor": 2
}
